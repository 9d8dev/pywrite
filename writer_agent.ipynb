{
 "cells": [
  {
   "cell_type": "code",
   "execution_count": 1,
   "metadata": {},
   "outputs": [
    {
     "data": {
      "text/plain": [
       "True"
      ]
     },
     "execution_count": 1,
     "metadata": {},
     "output_type": "execute_result"
    }
   ],
   "source": [
    "from langchain.llms import OpenAI\n",
    "from langchain.prompts import PromptTemplate\n",
    "from langchain.chains import LLMChain\n",
    "from langchain.agents import load_tools\n",
    "from langchain.agents import initialize_agent\n",
    "from langchain.agents import AgentType\n",
    "\n",
    "from dotenv import load_dotenv\n",
    "\n",
    "load_dotenv()\n"
   ]
  },
  {
   "cell_type": "code",
   "execution_count": 7,
   "metadata": {},
   "outputs": [
    {
     "name": "stdout",
     "output_type": "stream",
     "text": [
      "{'animal_type': 'Dog', 'pet_color': 'Purple', 'pet_name': '\\n\\n1. Amethyst\\n2. Lavender\\n3. Barney the Purple Dog\\n4. Violet\\n5. Prince Purps'}\n"
     ]
    }
   ],
   "source": [
    "animal_type = input(\"Please enter the type of your pet: \")\n",
    "pet_color = input(\"Please enter the color of your pet: \")\n",
    "\n",
    "def generate_pet_name(animal_type, pet_color):\n",
    "    llm = OpenAI(temperature=0.7)\n",
    "\n",
    "    prompt_template_name = PromptTemplate(\n",
    "        input_variables=['animal_type', 'pet_color'],\n",
    "        template=\"I have a pet {animal_type} that is {pet_color} and want a list of 5 names that I could name him, make them fun and creative.\"\n",
    "    )\n",
    "\n",
    "    name_chain = LLMChain(llm=llm, prompt=prompt_template_name, output_key='pet_name')\n",
    "\n",
    "    response = name_chain({'animal_type': animal_type, 'pet_color': pet_color})\n",
    "    return response\n",
    "\n",
    "print(generate_pet_name(animal_type, pet_color))\n"
   ]
  },
  {
   "cell_type": "code",
   "execution_count": null,
   "metadata": {},
   "outputs": [],
   "source": [
    "def langchain_agent():\n",
    "    llm = OpenAI(temperature=0.5)\n",
    "\n",
    "    tools = load_tools(['wikipedia', 'llm-math'], llm=llm)\n",
    "\n",
    "    agent = initialize_agent(\n",
    "        tools, llm, agent=AgentType.ZERO_SHOT_REACT_DESCRIPTION, verbose=True\n",
    "    )\n",
    "\n",
    "    result = agent.run(\n",
    "        \"What is the average age of a dog? Multiply the age by 3\"\n",
    "    )\n",
    "\n",
    "    print (result)\n",
    "\n",
    "\n",
    "print (langchain_agent())\n"
   ]
  }
 ],
 "metadata": {
  "kernelspec": {
   "display_name": "codex",
   "language": "python",
   "name": "python3"
  },
  "language_info": {
   "codemirror_mode": {
    "name": "ipython",
    "version": 3
   },
   "file_extension": ".py",
   "mimetype": "text/x-python",
   "name": "python",
   "nbconvert_exporter": "python",
   "pygments_lexer": "ipython3",
   "version": "3.10.10"
  }
 },
 "nbformat": 4,
 "nbformat_minor": 2
}
